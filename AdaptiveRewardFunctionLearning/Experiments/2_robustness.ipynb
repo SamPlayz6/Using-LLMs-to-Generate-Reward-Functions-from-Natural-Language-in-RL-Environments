{
 "cells": [
  {
   "cell_type": "code",
   "execution_count": null,
   "metadata": {},
   "outputs": [],
   "source": [
    "# Have many possible starting points. Many starting reward functions. Test if they start to perform.\n",
    "\n",
    "# This bit will be an exploration of the weaknesses of the architecture, in turn checking robustness.\n",
    "\n",
    "# This could compose of creating many 'bad' initial reward functions and seeing if it can re-adjust.\n",
    "\n",
    "# I would also need to investigate the performance changes between changes of reward functions and see over time if this actually improves performance regularly, is it robust over many changes in this sense?\n",
    "\n"
   ]
  }
 ],
 "metadata": {
  "language_info": {
   "name": "python"
  }
 },
 "nbformat": 4,
 "nbformat_minor": 2
}
