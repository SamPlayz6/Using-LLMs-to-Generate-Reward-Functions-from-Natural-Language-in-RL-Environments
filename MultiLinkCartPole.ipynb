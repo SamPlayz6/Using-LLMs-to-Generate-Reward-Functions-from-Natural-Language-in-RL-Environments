{
 "cells": [
  {
   "cell_type": "code",
   "execution_count": null,
   "metadata": {},
   "outputs": [],
   "source": [
    "#Try to implement some code with multilink cartpole (Can build to a full body)"
   ]
  }
 ],
 "metadata": {
  "language_info": {
   "name": "python"
  }
 },
 "nbformat": 4,
 "nbformat_minor": 2
}
